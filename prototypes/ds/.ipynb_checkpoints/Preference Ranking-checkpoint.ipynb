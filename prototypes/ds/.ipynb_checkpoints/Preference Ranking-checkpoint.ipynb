{
 "cells": [
  {
   "cell_type": "code",
   "execution_count": 28,
   "id": "5ead2053-8785-4053-915c-3340ca50b342",
   "metadata": {},
   "outputs": [],
   "source": [
    "import os\n",
    "import pandas as pd\n",
    "import glob\n",
    "import numpy as np\n",
    "import json"
   ]
  },
  {
   "cell_type": "code",
   "execution_count": 19,
   "id": "e3bfca20-bec2-4c83-9c71-215b28623bca",
   "metadata": {},
   "outputs": [],
   "source": [
    "def t1(filepath):\n",
    "    f = open(filepath, 'r')\n",
    "    return json.load(f)\n",
    "    \n",
    "data = [{\"basename\": os.path.basename(f).split(\".\")[0], \"filepath\": f, \"val\": t1(f)} for f in glob.glob(\"../data/*.json\")]"
   ]
  },
  {
   "cell_type": "code",
   "execution_count": 20,
   "id": "5f4bb632-db3d-487a-b6d0-361ccb0e7a37",
   "metadata": {},
   "outputs": [],
   "source": [
    "inputData = pd.DataFrame(data[0]['val'])"
   ]
  },
  {
   "cell_type": "code",
   "execution_count": 21,
   "id": "4dc599be-7f0b-4343-bc0a-36bd3ac58176",
   "metadata": {},
   "outputs": [],
   "source": [
    "ranking = list(range(len(data[1]['val'])))"
   ]
  },
  {
   "cell_type": "markdown",
   "id": "47a4de8a-b9c6-437e-8fc8-8f9e6649bc72",
   "metadata": {},
   "source": [
    "### Step 1: Match Criteria \n",
    "\n",
    "https://towardsdatascience.com/introduction-to-ranking-algorithms-4e4639d65b8\n",
    "\n",
    "Inputs:\n",
    "- $X$ = A set of preferences\n",
    "- $X^{'}$ = A feature vector representing an account.\n",
    "- $y$ = A ordered list of ranked pairs.\n",
    "\n",
    "Given an n-dimensional feature vector storing the information about a query and a document, the objective of ranking is to find such a function f which produces a real number indicating the relevance of the query to the document. Additionally, if object i is ranked higher than object j (i ▷ j), then f(i) should be greater than f(j).\n",
    "\n",
    "Note. i ▷ j means that document i is ranked higher than document j."
   ]
  },
  {
   "cell_type": "code",
   "execution_count": 22,
   "id": "1297f6fe-3663-46ce-b583-cab92549c9f9",
   "metadata": {},
   "outputs": [],
   "source": [
    "supplyData = pd.DataFrame(data[1]['val']) # features dervied from document"
   ]
  },
  {
   "cell_type": "code",
   "execution_count": 49,
   "id": "3d4702be-682c-4478-9350-aec0f4c4ced5",
   "metadata": {},
   "outputs": [],
   "source": [
    "s = Scorer(supplyData, inputData)\n",
    "s.preprocess()"
   ]
  },
  {
   "cell_type": "markdown",
   "id": "be2d860f-0eff-4971-b292-714fb9fb07a2",
   "metadata": {},
   "source": [
    "# Approach 1 : LLM/Generative Approach \n",
    "\n",
    "Pros: Can consider a large amount of features.\n",
    "\n",
    "Cons: Requires large models, constant API calls, slower, and hallucinates.\n"
   ]
  },
  {
   "cell_type": "markdown",
   "id": "da338598-8599-4e4e-b4af-94dc3c1c376c",
   "metadata": {},
   "source": [
    "# Approach 2 : Distance Approach\n",
    "\n",
    "Pros: Fast updates. Offline. \n",
    "\n",
    "Cons: Limited. "
   ]
  },
  {
   "cell_type": "code",
   "execution_count": 313,
   "id": "8dce67a9-88db-4771-8933-0cc1ffcecbd9",
   "metadata": {
    "scrolled": true
   },
   "outputs": [],
   "source": [
    "from sklearn.metrics import pairwise_distances\n",
    "from scipy.spatial import distance\n",
    "\n",
    "class HeuristicScorer():\n",
    "    \n",
    "    _x = None\n",
    "    _y = None\n",
    "    _distance_metric = None \n",
    "    _weights = None\n",
    "    \n",
    "    def __init__(self, distance_metric='hamming'):\n",
    "        # set weights for how much constraint mapping impacts score\n",
    "        self._distance_metric = distance_metric\n",
    "\n",
    "    def fit(self, X, y=None):\n",
    "        self._x = X\n",
    "        self._y = y\n",
    "        return self\n",
    "\n",
    "    def transform(self, X):\n",
    "        return X\n",
    "        \n",
    "    def predict(self, X):\n",
    "        if self._x is None:\n",
    "            raise ValueError(\"not trained\")\n",
    "        if self._distance_metric is None: \n",
    "            raise ValueError(\"please put valid distance metric\")  \n",
    "        dist = distance.cdist(X, self._x, metric=self._distance_metric)\n",
    "        return [np.argsort(dist), dist]\n",
    "\n",
    "class ConstraintMapper():\n",
    "    def __init__(self):\n",
    "        pass\n",
    "\n",
    "    def fit(self, X, y=None):\n",
    "        return self\n",
    "\n",
    "    def predict(self, X):\n",
    "        return X\n",
    "        \n",
    "class CustomNormalizer():\n",
    "\n",
    "    _min = None\n",
    "    _max = None\n",
    "    \n",
    "    def __init__(self, min=0, max=5):\n",
    "        self._min = min\n",
    "        self._max = max\n",
    "\n",
    "    def fit(self, X, y=None):\n",
    "        return self \n",
    "        \n",
    "    def transform(self, X):\n",
    "        return (X-self._min)/(self._max-self._min)"
   ]
  },
  {
   "cell_type": "code",
   "execution_count": 311,
   "id": "7e01aebb-49ec-4e40-8b4d-bbd53f225626",
   "metadata": {},
   "outputs": [],
   "source": [
    "from sklearn.pipeline import Pipeline\n",
    "from sklearn.preprocessing import MinMaxScaler\n",
    "pipeline = Pipeline(steps=[\n",
    "    ('custom_normalizer', CustomNormalizer()), \n",
    "    ('heuristic_scorer', HeuristicScorer(distance_metric='euclidean')) \n",
    "])"
   ]
  },
  {
   "cell_type": "code",
   "execution_count": 308,
   "id": "ce61d92f-0e52-4240-979c-1796b69e82b7",
   "metadata": {},
   "outputs": [
    {
     "data": {
      "text/plain": [
       "4          EverBank Small Business Checking\n",
       "2           Chase Business Complete Banking\n",
       "0                    Novo Business Checking\n",
       "3    Wells Fargo Initiate Business Checking\n",
       "1                BlueVine Business Checking\n",
       "Name: Vendor, dtype: object"
      ]
     },
     "metadata": {},
     "output_type": "display_data"
    }
   ],
   "source": [
    "X = pd.concat([supplyData.Vendor, pd.DataFrame(np.random.randint(low=0, high=5, size=(len(supplyData.Vendor), 10)))], axis=1)\n",
    "pipeline.fit(X.iloc[:,1:], None)\n",
    "ranks = pipeline.predict(np.random.randint(low=0, high=5, size=(1, 10)))\n",
    "display(X.iloc[list(ranks[0][0])].Vendor)"
   ]
  },
  {
   "cell_type": "markdown",
   "id": "35f03caf-829a-407f-ab78-181c4ac86019",
   "metadata": {
    "jp-MarkdownHeadingCollapsed": true
   },
   "source": [
    "# Approach 3 : Collaborative Filtering\n",
    "\n",
    "https://cs.nyu.edu/~mohri/pub/pref.pdf\n",
    "https://research.google/pubs/preference-based-learning-to-rank/\n",
    "\n",
    "Pros: Small model which can run quickly offline, and update rank live.\n",
    "\n",
    "Cons: Requires data and harder to implement."
   ]
  },
  {
   "cell_type": "markdown",
   "id": "795959a0-db6a-4eda-841f-e5e9ff38465d",
   "metadata": {},
   "source": [
    "Key Questions To Consider:\n",
    "\n",
    "1. Preference Function.\n",
    "2. Categories\n",
    "3. Data"
   ]
  },
  {
   "cell_type": "code",
   "execution_count": null,
   "id": "e0c0fd93-e3f0-4852-bdf7-2dc7229dc845",
   "metadata": {},
   "outputs": [],
   "source": []
  },
  {
   "cell_type": "code",
   "execution_count": null,
   "id": "d598088d-feca-478b-b40c-90c255de49c1",
   "metadata": {},
   "outputs": [],
   "source": []
  }
 ],
 "metadata": {
  "kernelspec": {
   "display_name": "Python 3 (ipykernel)",
   "language": "python",
   "name": "python3"
  },
  "language_info": {
   "codemirror_mode": {
    "name": "ipython",
    "version": 3
   },
   "file_extension": ".py",
   "mimetype": "text/x-python",
   "name": "python",
   "nbconvert_exporter": "python",
   "pygments_lexer": "ipython3",
   "version": "3.11.5"
  }
 },
 "nbformat": 4,
 "nbformat_minor": 5
}
