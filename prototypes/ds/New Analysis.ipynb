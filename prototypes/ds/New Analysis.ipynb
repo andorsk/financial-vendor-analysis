{
 "cells": [
  {
   "cell_type": "code",
   "execution_count": 256,
   "id": "db0c9f90-5b86-4b0d-97c9-06cadadbed9b",
   "metadata": {},
   "outputs": [],
   "source": [
    "import pandas as pd"
   ]
  },
  {
   "cell_type": "code",
   "execution_count": 294,
   "id": "00ef1144-cd35-4a58-a4c3-0648693da3f1",
   "metadata": {},
   "outputs": [],
   "source": [
    "df = pd.read_excel('sample.xlsx', sheet_name='Accounts #2')\n",
    "dataDF = df.T.drop(['Weight out of 10', 'Feature'])\n",
    "dataDF.columns =  dataDF.iloc[0]\n",
    "dataDF = dataDF[1:]\n",
    "dataDF = dataDF.replace({True: 1, False: 0})\n",
    "dataDF.iloc[:, 2:] = dataDF.iloc[:, 2:].apply(pd.to_numeric, errors='coerce')\n",
    "dataDF = dataDF.fillna(-1)"
   ]
  },
  {
   "cell_type": "code",
   "execution_count": 295,
   "id": "9a0c3723-c905-4aee-b3b7-b4531cf273cb",
   "metadata": {},
   "outputs": [],
   "source": [
    "X = dataDF.iloc[:, 3:] "
   ]
  },
  {
   "cell_type": "code",
   "execution_count": 296,
   "id": "6491443e-eff7-4548-9396-d1f49ffa7fb9",
   "metadata": {},
   "outputs": [],
   "source": [
    "ret = {\n",
    "    'headers': df.iloc[:,3:].columns.tolist(),\n",
    "    'index': df.field.values.tolist(),\n",
    "    'weights': df['Weight out of 10'].values.tolist(),\n",
    "    'data': dataDF.T.values.tolist(),\n",
    "    'alias': df.Feature.values.tolist()\n",
    "}"
   ]
  },
  {
   "cell_type": "code",
   "execution_count": 297,
   "id": "6e62033d-1b96-423e-aca8-88dbd1cb27b0",
   "metadata": {},
   "outputs": [],
   "source": [
    "x = {\"monthly_fee\":2,\"invoicing\":2,\"budgeting\":2,\"payments\":2,\"hidden_fees\":2,\"application_speed\":2,\"atm_support\":2,\"free_transfers\":2,\"fdic_insured\":2,\"checks\":2,\"wires\":2,\"rewards_program\":2,\"insured_amount\":2,\"encrypted\":2,\"virtual_card\":2,\"physical_card\":2,\"integrations\":2,\"integration_score\":2,\"atm_fees\":2,\"trust_pilot_score\":2,\"ios_app_score\":2,\"ios_app\":2,\"ios_number_of_ratings\":2,\"android_app\":2,\"android_app_score\":2,\"android_app_download\":2,\"android_number_of_ratings\":2,\"osx_app\":2,\"web_app\":2,\"windows_app\":2,\"linux_app\":2,\"open_source\":2,\"offline_support\":2,\"pwa\":2,\"nerd_wallet_score\":2,\"linkedin\":2,\"twitter\":2,\"instagram\":2,\"facebook\":2,\"community_size\":2,\"support_score\":2,\"physical_branch_presence_score\":2,\"deposit_limit\":2,\"transaction_limits\":2,\"zelle\":2,\"ease_of_setup\":2,\"bank_reliability\":2,\"dedicated_business_manager\":2,\"wire_transfers\":2,\"accessibility_score\":2,\"signup_benefits\":2,\"overdraft_protection\":2,\"atm_presence_score\":2}"
   ]
  },
  {
   "cell_type": "code",
   "execution_count": 298,
   "id": "358aa768-0afe-4b44-9ae6-d42eb9f828f2",
   "metadata": {},
   "outputs": [],
   "source": [
    "xDF = pd.DataFrame(x, index=[0])"
   ]
  },
  {
   "cell_type": "code",
   "execution_count": 321,
   "id": "b3b503f5-c107-4e8c-a3b9-8b522beb30e8",
   "metadata": {},
   "outputs": [],
   "source": [
    "from sklearn.pipeline import Pipeline\n",
    "from sklearn.preprocessing import MinMaxScaler\n",
    "from scipy.spatial.distance import cdist\n",
    "\n",
    "pipeline = Pipeline(steps=[\n",
    "    ('custom_normalizer', MinMaxScaler(feature_range=(0,5))) \n",
    "])\n",
    "\n",
    "transformed_X = pipeline.fit_transform(X)\n",
    "distances = cdist(transformed_X, xDF, metric='euclidean') \n",
    "score = distances / np.max(distances) * 10"
   ]
  },
  {
   "cell_type": "code",
   "execution_count": 322,
   "id": "711d4705-6630-42fc-af68-cbae85e3bb6c",
   "metadata": {},
   "outputs": [
    {
     "name": "stdout",
     "output_type": "stream",
     "text": [
      "[[ 6.47795899]\n",
      " [10.        ]\n",
      " [ 8.0291475 ]\n",
      " [ 8.28498777]]\n"
     ]
    }
   ],
   "source": [
    "print(score)"
   ]
  },
  {
   "cell_type": "code",
   "execution_count": null,
   "id": "1cf6e911-ee41-4979-831d-f61f906de03c",
   "metadata": {},
   "outputs": [],
   "source": []
  }
 ],
 "metadata": {
  "kernelspec": {
   "display_name": "Python 3 (ipykernel)",
   "language": "python",
   "name": "python3"
  },
  "language_info": {
   "codemirror_mode": {
    "name": "ipython",
    "version": 3
   },
   "file_extension": ".py",
   "mimetype": "text/x-python",
   "name": "python",
   "nbconvert_exporter": "python",
   "pygments_lexer": "ipython3",
   "version": "3.11.5"
  }
 },
 "nbformat": 4,
 "nbformat_minor": 5
}
